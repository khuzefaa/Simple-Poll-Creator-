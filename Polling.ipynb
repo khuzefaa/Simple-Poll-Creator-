{
  "nbformat": 4,
  "nbformat_minor": 0,
  "metadata": {
    "colab": {
      "provenance": [],
      "gpuType": "T4"
    },
    "kernelspec": {
      "name": "python3",
      "display_name": "Python 3"
    },
    "language_info": {
      "name": "python"
    },
    "accelerator": "GPU"
  },
  "cells": [
    {
      "cell_type": "code",
      "execution_count": 1,
      "metadata": {
        "colab": {
          "base_uri": "https://localhost:8080/"
        },
        "id": "6ekHzlcE8FXC",
        "outputId": "03e8876a-2a2d-4ebe-923b-bcd522a300cc"
      },
      "outputs": [
        {
          "output_type": "stream",
          "name": "stdout",
          "text": [
            "Dependencies installed and imported successfully!\n"
          ]
        }
      ],
      "source": [
        "!pip install matplotlib seaborn plotly -q\n",
        "\n",
        "import matplotlib.pyplot as plt\n",
        "import seaborn as sns\n",
        "import plotly.express as px\n",
        "import plotly.graph_objects as go\n",
        "from collections import defaultdict\n",
        "import random\n",
        "from datetime import datetime\n",
        "import pandas as pd\n",
        "from IPython.display import display, clear_output\n",
        "import ipywidgets as widgets\n",
        "\n",
        "print(\"Dependencies installed and imported successfully!\")"
      ]
    },
    {
      "cell_type": "code",
      "source": [
        "class SimplePoll:\n",
        "    def __init__(self):\n",
        "        self.polls = {}\n",
        "        self.current_poll_id = None\n",
        "\n",
        "    def create_poll(self, question, options):\n",
        "        \"\"\"Create a new poll with given question and options\"\"\"\n",
        "        poll_id = f\"poll_{len(self.polls) + 1}_{random.randint(1000, 9999)}\"\n",
        "        self.polls[poll_id] = {\n",
        "            'question': question,\n",
        "            'options': options,\n",
        "            'votes': {option: 0 for option in options},\n",
        "            'created_at': datetime.now().strftime(\"%Y-%m-%d %H:%M:%S\"),\n",
        "            'total_votes': 0\n",
        "        }\n",
        "        self.current_poll_id = poll_id\n",
        "        return poll_id\n",
        "\n",
        "    def vote(self, poll_id, option):\n",
        "        \"\"\"Cast a vote for an option\"\"\"\n",
        "        if poll_id in self.polls and option in self.polls[poll_id]['votes']:\n",
        "            self.polls[poll_id]['votes'][option] += 1\n",
        "            self.polls[poll_id]['total_votes'] += 1\n",
        "            return True\n",
        "        return False\n",
        "\n",
        "    def get_results(self, poll_id):\n",
        "        \"\"\"Get poll results\"\"\"\n",
        "        if poll_id in self.polls:\n",
        "            return self.polls[poll_id]\n",
        "        return None\n",
        "\n",
        "    def list_polls(self):\n",
        "        \"\"\"List all available polls\"\"\"\n",
        "        return list(self.polls.keys())\n",
        "\n",
        "# Initialize poll manager\n",
        "poll_manager = SimplePoll()\n",
        "print(\"Poll system initialized!\")"
      ],
      "metadata": {
        "colab": {
          "base_uri": "https://localhost:8080/"
        },
        "id": "SFSvgG8S8IFw",
        "outputId": "6c30140b-6633-40d2-9993-e47e05ec9917"
      },
      "execution_count": 2,
      "outputs": [
        {
          "output_type": "stream",
          "name": "stdout",
          "text": [
            "Poll system initialized!\n"
          ]
        }
      ]
    },
    {
      "cell_type": "code",
      "source": [
        "def create_new_poll():\n",
        "    print(\"CREATE NEW POLL\")\n",
        "    print(\"=\" * 50)\n",
        "\n",
        "    # Get question\n",
        "    question = input(\"Enter your poll question: \").strip()\n",
        "    if not question:\n",
        "        print(\"Question cannot be empty!\")\n",
        "        return None\n",
        "\n",
        "    # Get options\n",
        "    print(\"\\nEnter poll options (press Enter after each option, type 'done' when finished):\")\n",
        "    options = []\n",
        "    while True:\n",
        "        option = input(f\"Option {len(options) + 1}: \").strip()\n",
        "        if option.lower() == 'done':\n",
        "            break\n",
        "        if option and option not in options:\n",
        "            options.append(option)\n",
        "        elif option in options:\n",
        "            print(\"Option already exists!\")\n",
        "\n",
        "    if len(options) < 2:\n",
        "        print(\"At least 2 options are required!\")\n",
        "        return None\n",
        "\n",
        "    # Create poll\n",
        "    poll_id = poll_manager.create_poll(question, options)\n",
        "    print(f\"\\nPoll created successfully!\")\n",
        "    print(f\"Poll ID: {poll_id}\")\n",
        "    print(f\"Question: {question}\")\n",
        "    print(\"Options:\", \", \".join(options))\n",
        "\n",
        "    return poll_id\n",
        "\n",
        "# Create your first poll\n",
        "poll_id = create_new_poll()"
      ],
      "metadata": {
        "colab": {
          "base_uri": "https://localhost:8080/"
        },
        "id": "wZH00lK2Eoz3",
        "outputId": "9e4e7c4b-57c5-4838-9469-46e14c5e9e13"
      },
      "execution_count": 6,
      "outputs": [
        {
          "output_type": "stream",
          "name": "stdout",
          "text": [
            "CREATE NEW POLL\n",
            "==================================================\n",
            "Enter your poll question: WHo is going to win\n",
            "\n",
            "Enter poll options (press Enter after each option, type 'done' when finished):\n",
            "Option 1: pak\n",
            "Option 2: india\n",
            "Option 3: done\n",
            "\n",
            "Poll created successfully!\n",
            "Poll ID: poll_2_1804\n",
            "Question: WHo is going to win\n",
            "Options: pak, india\n"
          ]
        }
      ]
    },
    {
      "cell_type": "code",
      "source": [
        "def cast_vote(poll_id=None):\n",
        "    if not poll_id:\n",
        "        poll_id = poll_manager.current_poll_id\n",
        "\n",
        "    if not poll_id or poll_id not in poll_manager.polls:\n",
        "        print(\"No active poll found!\")\n",
        "        return\n",
        "\n",
        "    poll = poll_manager.get_results(poll_id)\n",
        "    print(\"CAST YOUR VOTE\")\n",
        "    print(\"=\" * 50)\n",
        "    print(f\"Question: {poll['question']}\")\n",
        "    print(\"\\nOptions:\")\n",
        "\n",
        "    for i, option in enumerate(poll['options'], 1):\n",
        "        print(f\"{i}. {option}\")\n",
        "\n",
        "    try:\n",
        "        choice = int(input(f\"\\nEnter your choice (1-{len(poll['options'])}): \"))\n",
        "        if 1 <= choice <= len(poll['options']):\n",
        "            selected_option = poll['options'][choice - 1]\n",
        "            if poll_manager.vote(poll_id, selected_option):\n",
        "                print(f\"\\nVote cast successfully for: {selected_option}\")\n",
        "                return True\n",
        "        else:\n",
        "            print(\"Invalid choice!\")\n",
        "    except ValueError:\n",
        "        print(\"Please enter a valid number!\")\n",
        "\n",
        "    return False\n",
        "\n",
        "# Cast some votes (run this cell multiple times to vote)\n",
        "cast_vote()\n"
      ],
      "metadata": {
        "colab": {
          "base_uri": "https://localhost:8080/"
        },
        "id": "kJjNzEoeFRW2",
        "outputId": "e5525e10-f1a3-43cc-8dc4-ff998c6acc85"
      },
      "execution_count": 9,
      "outputs": [
        {
          "output_type": "stream",
          "name": "stdout",
          "text": [
            "CAST YOUR VOTE\n",
            "==================================================\n",
            "Question: WHo is going to win\n",
            "\n",
            "Options:\n",
            "1. pak\n",
            "2. india\n",
            "\n",
            "Enter your choice (1-2): 1\n",
            "\n",
            "Vote cast successfully for: pak\n"
          ]
        },
        {
          "output_type": "execute_result",
          "data": {
            "text/plain": [
              "True"
            ]
          },
          "metadata": {},
          "execution_count": 9
        }
      ]
    },
    {
      "cell_type": "code",
      "source": [
        "def show_poll_results(poll_id=None, chart_type='bar'):\n",
        "    if not poll_id:\n",
        "        poll_id = poll_manager.current_poll_id\n",
        "\n",
        "    if not poll_id or poll_id not in poll_manager.polls:\n",
        "        print(\"No poll found!\")\n",
        "        return\n",
        "\n",
        "    poll = poll_manager.get_results(poll_id)\n",
        "\n",
        "    print(\"POLL RESULTS\")\n",
        "    print(\"=\" * 50)\n",
        "    print(f\"Question: {poll['question']}\")\n",
        "    print(f\"Total Votes: {poll['total_votes']}\")\n",
        "    print(f\"Created: {poll['created_at']}\")\n",
        "    print()\n",
        "\n",
        "    for option, votes in poll['votes'].items():\n",
        "        percentage = (votes / poll['total_votes'] * 100) if poll['total_votes'] > 0 else 0\n",
        "        print(f\"{option}: {votes} votes ({percentage:.1f}%)\")\n",
        "\n",
        "    if poll['total_votes'] > 0:\n",
        "        # Create visualizations\n",
        "        options = list(poll['votes'].keys())\n",
        "        votes = list(poll['votes'].values())\n",
        "\n",
        "        fig, ((ax1, ax2), (ax3, ax4)) = plt.subplots(2, 2, figsize=(15, 10))\n",
        "        fig.suptitle(f\"Poll Results: {poll['question']}\", fontsize=16, fontweight='bold')\n",
        "\n",
        "        # Bar chart\n",
        "        colors = plt.cm.Set3(range(len(options)))\n",
        "        ax1.bar(options, votes, color=colors)\n",
        "        ax1.set_title('Bar Chart')\n",
        "        ax1.set_ylabel('Votes')\n",
        "        ax1.tick_params(axis='x', rotation=45)\n",
        "\n",
        "        # Pie chart\n",
        "        ax2.pie(votes, labels=options, autopct='%1.1f%%', colors=colors)\n",
        "        ax2.set_title('Pie Chart')\n",
        "\n",
        "        # Horizontal bar chart\n",
        "        ax3.barh(options, votes, color=colors)\n",
        "        ax3.set_title('Horizontal Bar Chart')\n",
        "        ax3.set_xlabel('Votes')\n",
        "\n",
        "        # Donut chart\n",
        "        wedges, texts, autotexts = ax4.pie(votes, labels=options, autopct='%1.1f%%', colors=colors)\n",
        "        centre_circle = plt.Circle((0,0), 0.70, fc='white')\n",
        "        ax4.add_artist(centre_circle)\n",
        "        ax4.set_title('Donut Chart')\n",
        "\n",
        "        plt.tight_layout()\n",
        "        plt.show()\n",
        "\n",
        "        # Interactive plotly chart\n",
        "        df = pd.DataFrame({'Option': options, 'Votes': votes})\n",
        "        fig_plotly = px.bar(df, x='Option', y='Votes',\n",
        "                           title=f\"Interactive Results: {poll['question']}\",\n",
        "                           color='Votes', color_continuous_scale='viridis')\n",
        "        fig_plotly.show()"
      ],
      "metadata": {
        "id": "mVMA5lHGFelT"
      },
      "execution_count": 16,
      "outputs": []
    },
    {
      "cell_type": "code",
      "source": [
        "# Show results for current poll\n",
        "show_poll_results()"
      ],
      "metadata": {
        "colab": {
          "base_uri": "https://localhost:8080/",
          "height": 1000
        },
        "id": "ZR3bIaUQFkYR",
        "outputId": "79d7760a-f926-4e8b-e51c-808947b4b0b0"
      },
      "execution_count": 17,
      "outputs": [
        {
          "output_type": "stream",
          "name": "stdout",
          "text": [
            "POLL RESULTS\n",
            "==================================================\n",
            "Question: WHo is going to win\n",
            "Total Votes: 1\n",
            "Created: 2025-08-10 22:24:18\n",
            "\n",
            "pak: 1 votes (100.0%)\n",
            "india: 0 votes (0.0%)\n"
          ]
        },
        {
          "output_type": "display_data",
          "data": {
            "text/plain": [
              "<Figure size 1500x1000 with 4 Axes>"
            ],
            "image/png": "[encoded data removed]"
          },
          "metadata": {}
        },
        {
          "output_type": "display_data",
          "data": {
            "text/html": [
              "<html>\n",
              "<head><meta charset=\"utf-8\" /></head>\n",
              "<body>\n",
              "    <div>            <script src=\"https://cdnjs.cloudflare.com/ajax/libs/mathjax/2.7.5/MathJax.js?config=TeX-AMS-MML_SVG\"></script><script type=\"text/javascript\">if (window.MathJax && window.MathJax.Hub && window.MathJax.Hub.Config) {window.MathJax.Hub.Config({SVG: {font: \"STIX-Web\"}});}</script>                <script type=\"text/javascript\">window.PlotlyConfig = {MathJaxConfig: 'local'};</script>\n",
              "        <script charset=\"utf-8\" src=\"https://cdn.plot.ly/plotly-2.35.2.min.js\"></script>                <div id=\"50c27675-7985-4076-a969-7b82cc8c5e95\" class=\"plotly-graph-div\" style=\"height:525px; width:100%;\"></div>            <script type=\"text/javascript\">                                    window.PLOTLYENV=window.PLOTLYENV || {};                                    if (document.getElementById(\"50c27675-7985-4076-a969-7b82cc8c5e95\")) {                    Plotly.newPlot(                        \"50c27675-7985-4076-a969-7b82cc8c5e95\",                        [{\"alignmentgroup\":\"True\",\"hovertemplate\":\"Option=%{x}\\u003cbr\\u003eVotes=%{marker.color}\\u003cextra\\u003e\\u003c\\u002fextra\\u003e\",\"legendgroup\":\"\",\"marker\":{\"color\":[1,0],\"coloraxis\":\"coloraxis\",\"pattern\":{\"shape\":\"\"}},\"name\":\"\",\"offsetgroup\":\"\",\"orientation\":\"v\",\"showlegend\":false,\"textposition\":\"auto\",\"x\":[\"pak\",\"india\"],\"xaxis\":\"x\",\"y\":[1,0],\"yaxis\":\"y\",\"type\":\"bar\"}],                        {\"template\":{\"data\":{\"histogram2dcontour\":[{\"type\":\"histogram2dcontour\",\"colorbar\":{\"outlinewidth\":0,\"ticks\":\"\"},\"colorscale\":[[0.0,\"#0d0887\"],[0.1111111111111111,\"#46039f\"],[0.2222222222222222,\"#7201a8\"],[0.3333333333333333,\"#9c179e\"],[0.4444444444444444,\"#bd3786\"],[0.5555555555555556,\"#d8576b\"],[0.6666666666666666,\"#ed7953\"],[0.7777777777777778,\"#fb9f3a\"],[0.8888888888888888,\"#fdca26\"],[1.0,\"#f0f921\"]]}],\"choropleth\":[{\"type\":\"choropleth\",\"colorbar\":{\"outlinewidth\":0,\"ticks\":\"\"}}],\"histogram2d\":[{\"type\":\"histogram2d\",\"colorbar\":{\"outlinewidth\":0,\"ticks\":\"\"},\"colorscale\":[[0.0,\"#0d0887\"],[0.1111111111111111,\"#46039f\"],[0.2222222222222222,\"#7201a8\"],[0.3333333333333333,\"#9c179e\"],[0.4444444444444444,\"#bd3786\"],[0.5555555555555556,\"#d8576b\"],[0.6666666666666666,\"#ed7953\"],[0.7777777777777778,\"#fb9f3a\"],[0.8888888888888888,\"#fdca26\"],[1.0,\"#f0f921\"]]}],\"heatmap\":[{\"type\":\"heatmap\",\"colorbar\":{\"outlinewidth\":0,\"ticks\":\"\"},\"colorscale\":[[0.0,\"#0d0887\"],[0.1111111111111111,\"#46039f\"],[0.2222222222222222,\"#7201a8\"],[0.3333333333333333,\"#9c179e\"],[0.4444444444444444,\"#bd3786\"],[0.5555555555555556,\"#d8576b\"],[0.6666666666666666,\"#ed7953\"],[0.7777777777777778,\"#fb9f3a\"],[0.8888888888888888,\"#fdca26\"],[1.0,\"#f0f921\"]]}],\"heatmapgl\":[{\"type\":\"heatmapgl\",\"colorbar\":{\"outlinewidth\":0,\"ticks\":\"\"},\"colorscale\":[[0.0,\"#0d0887\"],[0.1111111111111111,\"#46039f\"],[0.2222222222222222,\"#7201a8\"],[0.3333333333333333,\"#9c179e\"],[0.4444444444444444,\"#bd3786\"],[0.5555555555555556,\"#d8576b\"],[0.6666666666666666,\"#ed7953\"],[0.7777777777777778,\"#fb9f3a\"],[0.8888888888888888,\"#fdca26\"],[1.0,\"#f0f921\"]]}],\"contourcarpet\":[{\"type\":\"contourcarpet\",\"colorbar\":{\"outlinewidth\":0,\"ticks\":\"\"}}],\"contour\":[{\"type\":\"contour\",\"colorbar\":{\"outlinewidth\":0,\"ticks\":\"\"},\"colorscale\":[[0.0,\"#0d0887\"],[0.1111111111111111,\"#46039f\"],[0.2222222222222222,\"#7201a8\"],[0.3333333333333333,\"#9c179e\"],[0.4444444444444444,\"#bd3786\"],[0.5555555555555556,\"#d8576b\"],[0.6666666666666666,\"#ed7953\"],[0.7777777777777778,\"#fb9f3a\"],[0.8888888888888888,\"#fdca26\"],[1.0,\"#f0f921\"]]}],\"surface\":[{\"type\":\"surface\",\"colorbar\":{\"outlinewidth\":0,\"ticks\":\"\"},\"colorscale\":[[0.0,\"#0d0887\"],[0.1111111111111111,\"#46039f\"],[0.2222222222222222,\"#7201a8\"],[0.3333333333333333,\"#9c179e\"],[0.4444444444444444,\"#bd3786\"],[0.5555555555555556,\"#d8576b\"],[0.6666666666666666,\"#ed7953\"],[0.7777777777777778,\"#fb9f3a\"],[0.8888888888888888,\"#fdca26\"],[1.0,\"#f0f921\"]]}],\"mesh3d\":[{\"type\":\"mesh3d\",\"colorbar\":{\"outlinewidth\":0,\"ticks\":\"\"}}],\"scatter\":[{\"fillpattern\":{\"fillmode\":\"overlay\",\"size\":10,\"solidity\":0.2},\"type\":\"scatter\"}],\"parcoords\":[{\"type\":\"parcoords\",\"line\":{\"colorbar\":{\"outlinewidth\":0,\"ticks\":\"\"}}}],\"scatterpolargl\":[{\"type\":\"scatterpolargl\",\"marker\":{\"colorbar\":{\"outlinewidth\":0,\"ticks\":\"\"}}}],\"bar\":[{\"error_x\":{\"color\":\"#2a3f5f\"},\"error_y\":{\"color\":\"#2a3f5f\"},\"marker\":{\"line\":{\"color\":\"#E5ECF6\",\"width\":0.5},\"pattern\":{\"fillmode\":\"overlay\",\"size\":10,\"solidity\":0.2}},\"type\":\"bar\"}],\"scattergeo\":[{\"type\":\"scattergeo\",\"marker\":{\"colorbar\":{\"outlinewidth\":0,\"ticks\":\"\"}}}],\"scatterpolar\":[{\"type\":\"scatterpolar\",\"marker\":{\"colorbar\":{\"outlinewidth\":0,\"ticks\":\"\"}}}],\"histogram\":[{\"marker\":{\"pattern\":{\"fillmode\":\"overlay\",\"size\":10,\"solidity\":0.2}},\"type\":\"histogram\"}],\"scattergl\":[{\"type\":\"scattergl\",\"marker\":{\"colorbar\":{\"outlinewidth\":0,\"ticks\":\"\"}}}],\"scatter3d\":[{\"type\":\"scatter3d\",\"line\":{\"colorbar\":{\"outlinewidth\":0,\"ticks\":\"\"}},\"marker\":{\"colorbar\":{\"outlinewidth\":0,\"ticks\":\"\"}}}],\"scattermapbox\":[{\"type\":\"scattermapbox\",\"marker\":{\"colorbar\":{\"outlinewidth\":0,\"ticks\":\"\"}}}],\"scatterternary\":[{\"type\":\"scatterternary\",\"marker\":{\"colorbar\":{\"outlinewidth\":0,\"ticks\":\"\"}}}],\"scattercarpet\":[{\"type\":\"scattercarpet\",\"marker\":{\"colorbar\":{\"outlinewidth\":0,\"ticks\":\"\"}}}],\"carpet\":[{\"aaxis\":{\"endlinecolor\":\"#2a3f5f\",\"gridcolor\":\"white\",\"linecolor\":\"white\",\"minorgridcolor\":\"white\",\"startlinecolor\":\"#2a3f5f\"},\"baxis\":{\"endlinecolor\":\"#2a3f5f\",\"gridcolor\":\"white\",\"linecolor\":\"white\",\"minorgridcolor\":\"white\",\"startlinecolor\":\"#2a3f5f\"},\"type\":\"carpet\"}],\"table\":[{\"cells\":{\"fill\":{\"color\":\"#EBF0F8\"},\"line\":{\"color\":\"white\"}},\"header\":{\"fill\":{\"color\":\"#C8D4E3\"},\"line\":{\"color\":\"white\"}},\"type\":\"table\"}],\"barpolar\":[{\"marker\":{\"line\":{\"color\":\"#E5ECF6\",\"width\":0.5},\"pattern\":{\"fillmode\":\"overlay\",\"size\":10,\"solidity\":0.2}},\"type\":\"barpolar\"}],\"pie\":[{\"automargin\":true,\"type\":\"pie\"}]},\"layout\":{\"autotypenumbers\":\"strict\",\"colorway\":[\"#636efa\",\"#EF553B\",\"#00cc96\",\"#ab63fa\",\"#FFA15A\",\"#19d3f3\",\"#FF6692\",\"#B6E880\",\"#FF97FF\",\"#FECB52\"],\"font\":{\"color\":\"#2a3f5f\"},\"hovermode\":\"closest\",\"hoverlabel\":{\"align\":\"left\"},\"paper_bgcolor\":\"white\",\"plot_bgcolor\":\"#E5ECF6\",\"polar\":{\"bgcolor\":\"#E5ECF6\",\"angularaxis\":{\"gridcolor\":\"white\",\"linecolor\":\"white\",\"ticks\":\"\"},\"radialaxis\":{\"gridcolor\":\"white\",\"linecolor\":\"white\",\"ticks\":\"\"}},\"ternary\":{\"bgcolor\":\"#E5ECF6\",\"aaxis\":{\"gridcolor\":\"white\",\"linecolor\":\"white\",\"ticks\":\"\"},\"baxis\":{\"gridcolor\":\"white\",\"linecolor\":\"white\",\"ticks\":\"\"},\"caxis\":{\"gridcolor\":\"white\",\"linecolor\":\"white\",\"ticks\":\"\"}},\"coloraxis\":{\"colorbar\":{\"outlinewidth\":0,\"ticks\":\"\"}},\"colorscale\":{\"sequential\":[[0.0,\"#0d0887\"],[0.1111111111111111,\"#46039f\"],[0.2222222222222222,\"#7201a8\"],[0.3333333333333333,\"#9c179e\"],[0.4444444444444444,\"#bd3786\"],[0.5555555555555556,\"#d8576b\"],[0.6666666666666666,\"#ed7953\"],[0.7777777777777778,\"#fb9f3a\"],[0.8888888888888888,\"#fdca26\"],[1.0,\"#f0f921\"]],\"sequentialminus\":[[0.0,\"#0d0887\"],[0.1111111111111111,\"#46039f\"],[0.2222222222222222,\"#7201a8\"],[0.3333333333333333,\"#9c179e\"],[0.4444444444444444,\"#bd3786\"],[0.5555555555555556,\"#d8576b\"],[0.6666666666666666,\"#ed7953\"],[0.7777777777777778,\"#fb9f3a\"],[0.8888888888888888,\"#fdca26\"],[1.0,\"#f0f921\"]],\"diverging\":[[0,\"#8e0152\"],[0.1,\"#c51b7d\"],[0.2,\"#de77ae\"],[0.3,\"#f1b6da\"],[0.4,\"#fde0ef\"],[0.5,\"#f7f7f7\"],[0.6,\"#e6f5d0\"],[0.7,\"#b8e186\"],[0.8,\"#7fbc41\"],[0.9,\"#4d9221\"],[1,\"#276419\"]]},\"xaxis\":{\"gridcolor\":\"white\",\"linecolor\":\"white\",\"ticks\":\"\",\"title\":{\"standoff\":15},\"zerolinecolor\":\"white\",\"automargin\":true,\"zerolinewidth\":2},\"yaxis\":{\"gridcolor\":\"white\",\"linecolor\":\"white\",\"ticks\":\"\",\"title\":{\"standoff\":15},\"zerolinecolor\":\"white\",\"automargin\":true,\"zerolinewidth\":2},\"scene\":{\"xaxis\":{\"backgroundcolor\":\"#E5ECF6\",\"gridcolor\":\"white\",\"linecolor\":\"white\",\"showbackground\":true,\"ticks\":\"\",\"zerolinecolor\":\"white\",\"gridwidth\":2},\"yaxis\":{\"backgroundcolor\":\"#E5ECF6\",\"gridcolor\":\"white\",\"linecolor\":\"white\",\"showbackground\":true,\"ticks\":\"\",\"zerolinecolor\":\"white\",\"gridwidth\":2},\"zaxis\":{\"backgroundcolor\":\"#E5ECF6\",\"gridcolor\":\"white\",\"linecolor\":\"white\",\"showbackground\":true,\"ticks\":\"\",\"zerolinecolor\":\"white\",\"gridwidth\":2}},\"shapedefaults\":{\"line\":{\"color\":\"#2a3f5f\"}},\"annotationdefaults\":{\"arrowcolor\":\"#2a3f5f\",\"arrowhead\":0,\"arrowwidth\":1},\"geo\":{\"bgcolor\":\"white\",\"landcolor\":\"#E5ECF6\",\"subunitcolor\":\"white\",\"showland\":true,\"showlakes\":true,\"lakecolor\":\"white\"},\"title\":{\"x\":0.05},\"mapbox\":{\"style\":\"light\"}}},\"xaxis\":{\"anchor\":\"y\",\"domain\":[0.0,1.0],\"title\":{\"text\":\"Option\"}},\"yaxis\":{\"anchor\":\"x\",\"domain\":[0.0,1.0],\"title\":{\"text\":\"Votes\"}},\"coloraxis\":{\"colorbar\":{\"title\":{\"text\":\"Votes\"}},\"colorscale\":[[0.0,\"#440154\"],[0.1111111111111111,\"#482878\"],[0.2222222222222222,\"#3e4989\"],[0.3333333333333333,\"#31688e\"],[0.4444444444444444,\"#26828e\"],[0.5555555555555556,\"#1f9e89\"],[0.6666666666666666,\"#35b779\"],[0.7777777777777778,\"#6ece58\"],[0.8888888888888888,\"#b5de2b\"],[1.0,\"#fde725\"]]},\"legend\":{\"tracegroupgap\":0},\"title\":{\"text\":\"Interactive Results: WHo is going to win\"},\"barmode\":\"relative\"},                        {\"responsive\": true}                    ).then(function(){\n",
              "                            \n",
              "var gd = document.getElementById('50c27675-7985-4076-a969-7b82cc8c5e95');\n",
              "var x = new MutationObserver(function (mutations, observer) {{\n",
              "        var display = window.getComputedStyle(gd).display;\n",
              "        if (!display || display === 'none') {{\n",
              "            console.log([gd, 'removed!']);\n",
              "            Plotly.purge(gd);\n",
              "            observer.disconnect();\n",
              "        }}\n",
              "}});\n",
              "\n",
              "// Listen for the removal of the full notebook cells\n",
              "var notebookContainer = gd.closest('#notebook-container');\n",
              "if (notebookContainer) {{\n",
              "    x.observe(notebookContainer, {childList: true});\n",
              "}}\n",
              "\n",
              "// Listen for the clearing of the current output cell\n",
              "var outputEl = gd.closest('.output');\n",
              "if (outputEl) {{\n",
              "    x.observe(outputEl, {childList: true});\n",
              "}}\n",
              "\n",
              "                        })                };                            </script>        </div>\n",
              "</body>\n",
              "</html>"
            ]
          },
          "metadata": {}
        }
      ]
    },
    {
      "cell_type": "code",
      "source": [
        "def poll_dashboard():\n",
        "    \"\"\"Interactive dashboard for poll management\"\"\"\n",
        "    print(\"POLL DASHBOARD\")\n",
        "    print(\"=\" * 50)\n",
        "\n",
        "    all_polls = poll_manager.list_polls()\n",
        "    if not all_polls:\n",
        "        print(\"No polls created yet!\")\n",
        "        return\n",
        "\n",
        "    print(\"Available polls:\")\n",
        "    for i, poll_id in enumerate(all_polls, 1):\n",
        "        poll = poll_manager.get_results(poll_id)\n",
        "        print(f\"{i}. {poll['question']} (ID: {poll_id}) - {poll['total_votes']} votes\")\n",
        "\n",
        "    print(\"\\nOptions:\")\n",
        "    print(\"1. View detailed results for a poll\")\n",
        "    print(\"2. Cast vote in a poll\")\n",
        "    print(\"3. Create new poll\")\n",
        "    print(\"4. Generate comparison report\")\n",
        "\n",
        "    try:\n",
        "        choice = int(input(\"\\nEnter your choice (1-4): \"))\n",
        "\n",
        "        if choice == 1:\n",
        "            poll_num = int(input(\"Enter poll number: \"))\n",
        "            if 1 <= poll_num <= len(all_polls):\n",
        "                show_poll_results(all_polls[poll_num - 1])\n",
        "\n",
        "        elif choice == 2:\n",
        "            poll_num = int(input(\"Enter poll number: \"))\n",
        "            if 1 <= poll_num <= len(all_polls):\n",
        "                cast_vote(all_polls[poll_num - 1])\n",
        "\n",
        "        elif choice == 3:\n",
        "            create_new_poll()\n",
        "\n",
        "        elif choice == 4:\n",
        "            generate_comparison_report()\n",
        "\n",
        "    except (ValueError, IndexError):\n",
        "        print(\"Invalid input!\")\n",
        "\n",
        "def generate_comparison_report():\n",
        "    \"\"\"Generate a comparison report of all polls\"\"\"\n",
        "    all_polls = poll_manager.list_polls()\n",
        "    if len(all_polls) < 2:\n",
        "        print(\"Need at least 2 polls for comparison!\")\n",
        "        return\n",
        "\n",
        "    print(\"\\nPOLL COMPARISON REPORT\")\n",
        "    print(\"=\" * 50)\n",
        "\n",
        "    report_data = []\n",
        "    for poll_id in all_polls:\n",
        "        poll = poll_manager.get_results(poll_id)\n",
        "        report_data.append({\n",
        "            'Question': poll['question'][:30] + \"...\" if len(poll['question']) > 30 else poll['question'],\n",
        "            'Total Votes': poll['total_votes'],\n",
        "            'Options Count': len(poll['options']),\n",
        "            'Created': poll['created_at']\n",
        "        })\n",
        "\n",
        "    df = pd.DataFrame(report_data)\n",
        "    print(df.to_string(index=False))\n",
        "\n",
        "    # Visual comparison\n",
        "    fig, (ax1, ax2) = plt.subplots(1, 2, figsize=(15, 6))\n",
        "\n",
        "    questions = [data['Question'] for data in report_data]\n",
        "    total_votes = [data['Total Votes'] for data in report_data]\n",
        "    option_counts = [data['Options Count'] for data in report_data]\n",
        "\n",
        "    ax1.bar(range(len(questions)), total_votes)\n",
        "    ax1.set_title('Total Votes per Poll')\n",
        "    ax1.set_ylabel('Total Votes')\n",
        "    ax1.set_xticks(range(len(questions)))\n",
        "    ax1.set_xticklabels([f\"Poll {i+1}\" for i in range(len(questions))], rotation=45)\n",
        "\n",
        "    ax2.bar(range(len(questions)), option_counts, color='orange')\n",
        "    ax2.set_title('Number of Options per Poll')\n",
        "    ax2.set_ylabel('Option Count')\n",
        "    ax2.set_xticks(range(len(questions)))\n",
        "    ax2.set_xticklabels([f\"Poll {i+1}\" for i in range(len(questions))], rotation=45)\n",
        "\n",
        "    plt.tight_layout()\n",
        "    plt.show()\n",
        "\n",
        "# Run the dashboard\n",
        "poll_dashboard()"
      ],
      "metadata": {
        "colab": {
          "base_uri": "https://localhost:8080/"
        },
        "id": "dcj0PixTFq5g",
        "outputId": "7b597bea-e915-49f6-8fe6-dbb9602b1907"
      },
      "execution_count": null,
      "outputs": [
        {
          "output_type": "stream",
          "name": "stdout",
          "text": [
            "POLL DASHBOARD\n",
            "==================================================\n",
            "Available polls:\n",
            "1. Hi (ID: poll_1_7462) - 1 votes\n",
            "2. WHo is going to win (ID: poll_2_1804) - 1 votes\n",
            "\n",
            "Options:\n",
            "1. View detailed results for a poll\n",
            "2. Cast vote in a poll\n",
            "3. Create new poll\n",
            "4. Generate comparison report\n",
            "\n",
            "Enter your choice (1-4): 2\n",
            "Enter poll number: 1\n",
            "CAST YOUR VOTE\n",
            "==================================================\n",
            "Question: Hi\n",
            "\n",
            "Options:\n",
            "1. hi1\n",
            "2. hi2\n",
            "3. hi4\n"
          ]
        }
      ]
    },
    {
      "cell_type": "code",
      "source": [],
      "metadata": {
        "id": "uLozcSS-GPyn"
      },
      "execution_count": null,
      "outputs": []
    }
  ]
}